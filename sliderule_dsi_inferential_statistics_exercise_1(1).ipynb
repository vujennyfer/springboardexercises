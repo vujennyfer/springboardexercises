{
 "cells": [
  {
   "cell_type": "markdown",
   "metadata": {},
   "source": [
    "# What is the True Normal Human Body Temperature? \n",
    "\n",
    "#### Background\n",
    "\n",
    "The mean normal body temperature was held to be 37$^{\\circ}$C or 98.6$^{\\circ}$F for more than 120 years since it was first conceptualized and reported by Carl Wunderlich in a famous 1868 book. But, is this value statistically correct?"
   ]
  },
  {
   "cell_type": "markdown",
   "metadata": {},
   "source": [
    "<h3>Exercises</h3>\n",
    "\n",
    "<p>In this exercise, you will analyze a dataset of human body temperatures and employ the concepts of hypothesis testing, confidence intervals, and statistical significance.</p>\n",
    "\n",
    "<p>Answer the following questions <b>in this notebook below and submit to your Github account</b>.</p> \n",
    "\n",
    "<ol>\n",
    "<li>  Is the distribution of body temperatures normal? \n",
    "    <ul>\n",
    "    <li> Although this is not a requirement for the Central Limit Theorem to hold (read the introduction on Wikipedia's page about the CLT carefully: https://en.wikipedia.org/wiki/Central_limit_theorem), it gives us some peace of mind that the population may also be normally distributed if we assume that this sample is representative of the population.\n",
    "    <li> Think about the way you're going to check for the normality of the distribution. Graphical methods are usually used first, but there are also other ways: https://en.wikipedia.org/wiki/Normality_test\n",
    "    </ul>\n",
    "<li>  Is the sample size large? Are the observations independent?\n",
    "    <ul>\n",
    "    <li> Remember that this is a condition for the Central Limit Theorem, and hence the statistical tests we are using, to apply.\n",
    "    </ul>\n",
    "<li>  Is the true population mean really 98.6 degrees F?\n",
    "    <ul>\n",
    "    <li> First, try a bootstrap hypothesis test.\n",
    "    <li> Now, let's try frequentist statistical testing. Would you use a one-sample or two-sample test? Why?\n",
    "    <li> In this situation, is it appropriate to use the $t$ or $z$ statistic? \n",
    "    <li> Now try using the other test. How is the result be different? Why?\n",
    "    </ul>\n",
    "<li>  Draw a small sample of size 10 from the data and repeat both frequentist tests. \n",
    "    <ul>\n",
    "    <li> Which one is the correct one to use? \n",
    "    <li> What do you notice? What does this tell you about the difference in application of the $t$ and $z$ statistic?\n",
    "    </ul>\n",
    "<li>  At what temperature should we consider someone's temperature to be \"abnormal\"?\n",
    "    <ul>\n",
    "    <li> As in the previous example, try calculating everything using the boostrap approach, as well as the frequentist approach.\n",
    "    <li> Start by computing the margin of error and confidence interval. When calculating the confidence interval, keep in mind that you should use the appropriate formula for one draw, and not N draws.\n",
    "    </ul>\n",
    "<li>  Is there a significant difference between males and females in normal temperature?\n",
    "    <ul>\n",
    "    <li> What testing approach did you use and why?\n",
    "    <li> Write a story with your conclusion in the context of the original problem.\n",
    "    </ul>\n",
    "</ol>\n",
    "\n",
    "You can include written notes in notebook cells using Markdown: \n",
    "   - In the control panel at the top, choose Cell > Cell Type > Markdown\n",
    "   - Markdown syntax: http://nestacms.com/docs/creating-content/markdown-cheat-sheet\n",
    "\n",
    "#### Resources\n",
    "\n",
    "+ Information and data sources: http://www.amstat.org/publications/jse/datasets/normtemp.txt, http://www.amstat.org/publications/jse/jse_data_archive.htm\n",
    "+ Markdown syntax: http://nestacms.com/docs/creating-content/markdown-cheat-sheet\n",
    "\n",
    "****"
   ]
  },
  {
   "cell_type": "code",
   "execution_count": 9,
   "metadata": {},
   "outputs": [],
   "source": [
    "import pandas as pd\n",
    "\n",
    "df = pd.read_csv('C:/Users/jwhoj/Desktop/EDA_human_temperature/data/human_body_temperature.csv')"
   ]
  },
  {
   "cell_type": "code",
   "execution_count": 10,
   "metadata": {},
   "outputs": [
    {
     "data": {
      "text/html": [
       "<div>\n",
       "<style scoped>\n",
       "    .dataframe tbody tr th:only-of-type {\n",
       "        vertical-align: middle;\n",
       "    }\n",
       "\n",
       "    .dataframe tbody tr th {\n",
       "        vertical-align: top;\n",
       "    }\n",
       "\n",
       "    .dataframe thead th {\n",
       "        text-align: right;\n",
       "    }\n",
       "</style>\n",
       "<table border=\"1\" class=\"dataframe\">\n",
       "  <thead>\n",
       "    <tr style=\"text-align: right;\">\n",
       "      <th></th>\n",
       "      <th>temperature</th>\n",
       "      <th>gender</th>\n",
       "      <th>heart_rate</th>\n",
       "    </tr>\n",
       "  </thead>\n",
       "  <tbody>\n",
       "    <tr>\n",
       "      <th>0</th>\n",
       "      <td>99.3</td>\n",
       "      <td>F</td>\n",
       "      <td>68.0</td>\n",
       "    </tr>\n",
       "    <tr>\n",
       "      <th>1</th>\n",
       "      <td>98.4</td>\n",
       "      <td>F</td>\n",
       "      <td>81.0</td>\n",
       "    </tr>\n",
       "    <tr>\n",
       "      <th>2</th>\n",
       "      <td>97.8</td>\n",
       "      <td>M</td>\n",
       "      <td>73.0</td>\n",
       "    </tr>\n",
       "    <tr>\n",
       "      <th>3</th>\n",
       "      <td>99.2</td>\n",
       "      <td>F</td>\n",
       "      <td>66.0</td>\n",
       "    </tr>\n",
       "    <tr>\n",
       "      <th>4</th>\n",
       "      <td>98.0</td>\n",
       "      <td>F</td>\n",
       "      <td>73.0</td>\n",
       "    </tr>\n",
       "  </tbody>\n",
       "</table>\n",
       "</div>"
      ],
      "text/plain": [
       "   temperature gender  heart_rate\n",
       "0         99.3      F        68.0\n",
       "1         98.4      F        81.0\n",
       "2         97.8      M        73.0\n",
       "3         99.2      F        66.0\n",
       "4         98.0      F        73.0"
      ]
     },
     "execution_count": 10,
     "metadata": {},
     "output_type": "execute_result"
    }
   ],
   "source": [
    "df.head()"
   ]
  },
  {
   "cell_type": "markdown",
   "metadata": {},
   "source": [
    "# 1.) Is the distribution of body temperatures normal?\n",
    "\n",
    "    Although this is not a requirement for the Central Limit Theorem to hold (read the introduction on Wikipedia's page about the CLT carefully: https://en.wikipedia.org/wiki/Central_limit_theorem), it gives us some peace of mind that the population may also be normally distributed if we assume that this sample is representative of the population.\n",
    "    Think about the way you're going to check for the normality of the distribution. Graphical methods are usually used first, but there are also other ways: https://en.wikipedia.org/wiki/Normality_test "
   ]
  },
  {
   "cell_type": "code",
   "execution_count": 11,
   "metadata": {
    "scrolled": true
   },
   "outputs": [
    {
     "data": {
      "image/png": "[encoded data removed]",
      "text/plain": [
       "<Figure size 432x288 with 1 Axes>"
      ]
     },
     "metadata": {},
     "output_type": "display_data"
    },
    {
     "name": "stdout",
     "output_type": "stream",
     "text": [
      "The histogram above shows that there is a resemblance of a normal distribution. However, the bulk of the bins are moving away from the left. Therefore this seems to be a left-skewed distribution.\n"
     ]
    }
   ],
   "source": [
    "import matplotlib.pyplot as plt\n",
    "import seaborn as sns\n",
    "sns.set()\n",
    "_ = plt.hist(df['temperature'])\n",
    "_ = plt.xlabel('temperature')\n",
    "_ = plt.ylabel('frequency of temperature')\n",
    "_ = plt.title('Distribution of Body Temperature')\n",
    "plt.show()\n",
    "print('The histogram above shows that there is a resemblance of a normal distribution. However, the bulk of the bins are moving away from the left. Therefore this seems to be a left-skewed distribution.')"
   ]
  },
  {
   "cell_type": "code",
   "execution_count": 12,
   "metadata": {},
   "outputs": [],
   "source": [
    "import numpy as np\n",
    "\n",
    "# Computing the ECDF\n",
    "def ecdf(df):\n",
    "    \"\"\"Compute ECDF for a one-dimensional array of measurements\"\"\"\n",
    "\n",
    "    # Number of data points: n \n",
    "    n = len(df)\n",
    "\n",
    "    # x-data for the ECDF: x\n",
    "    x = np.sort(df)\n",
    "\n",
    "    # y-data for the ECDF: y\n",
    "    y = np.arange(1, n+1) / n \n",
    "\n",
    "    return x,y "
   ]
  },
  {
   "cell_type": "code",
   "execution_count": 13,
   "metadata": {},
   "outputs": [
    {
     "data": {
      "image/png": "[encoded data removed]",
      "text/plain": [
       "<Figure size 432x288 with 1 Axes>"
      ]
     },
     "metadata": {},
     "output_type": "display_data"
    },
    {
     "name": "stdout",
     "output_type": "stream",
     "text": [
      "The ECDF shows a normal distribution curve\n"
     ]
    }
   ],
   "source": [
    "# Plotting the ECDF\n",
    "\n",
    "# Compute ECDF for temperature data: x_temp, y_temp\n",
    "x_temp, y_temp = ecdf(df['temperature'])\n",
    "\n",
    "# Generate plot \n",
    "plt.plot(x_temp, y_temp, marker='.', linestyle='none')\n",
    "\n",
    "# Label the axes \n",
    "_ = plt.xlabel('temperature')\n",
    "_ = plt.ylabel('ECDF')\n",
    "    \n",
    "# Display the plot \n",
    "plt.show()\n",
    "print('The ECDF shows a normal distribution curve')"
   ]
  },
  {
   "cell_type": "markdown",
   "metadata": {},
   "source": [
    "# 2.) Is the sample size large? Are the observations independent?\n",
    "\n",
    "    Remember that this is a condition for the Central Limit Theorem, and hence the statistical tests we are using, to apply. "
   ]
  },
  {
   "cell_type": "code",
   "execution_count": 14,
   "metadata": {},
   "outputs": [
    {
     "data": {
      "text/plain": [
       "temperature    130\n",
       "gender         130\n",
       "heart_rate     130\n",
       "dtype: int64"
      ]
     },
     "execution_count": 14,
     "metadata": {},
     "output_type": "execute_result"
    }
   ],
   "source": [
    "df.count()"
   ]
  },
  {
   "cell_type": "code",
   "execution_count": 15,
   "metadata": {},
   "outputs": [
    {
     "name": "stdout",
     "output_type": "stream",
     "text": [
      "The Central Limit Theorem states that for the CLT to hold, the sample size must be sufficiently large (n > 30). The sample size is 130 and therefore is considered large. The observations are indeed independent because one observation of temperature provides no information about the occurrence of another observation of temperature.\n"
     ]
    }
   ],
   "source": [
    "print('The Central Limit Theorem states that for the CLT to hold, the sample size must be sufficiently large (n > 30). The sample size is 130 and therefore is considered large. The observations are indeed independent because one observation of temperature provides no information about the occurrence of another observation of temperature.')"
   ]
  },
  {
   "cell_type": "markdown",
   "metadata": {},
   "source": [
    "# 3.) Is the true population mean really 98.6 degrees F?\n",
    "\n",
    "    First, try a bootstrap hypothesis test.\n",
    "    Now, let's try frequentist statistical testing. Would you use a one-sample or two-sample test? Why?\n",
    "    In this situation, is it appropriate to use the 𝑡 or 𝑧 statistic? Now try using the other test. How is the result be different? Why? "
   ]
  },
  {
   "cell_type": "markdown",
   "metadata": {},
   "source": [
    "We would most likely use a one-sample test because we are comparing one set of data to a single number. Whereas with a two-sample test, you compare two sets of data.\n",
    "It is more appropriate to use t-statistic because we do not know the population standard deviation. \n",
    "In all of the tests, the p-value is so small that we must reject the null hypothesis that the true population mean is 98.6 deg F. \n",
    "The true population mean is not really 98.6 degrees F. "
   ]
  },
  {
   "cell_type": "code",
   "execution_count": 16,
   "metadata": {},
   "outputs": [
    {
     "name": "stdout",
     "output_type": "stream",
     "text": [
      "mu is = 98.24923076923078\n",
      "sigma is = 0.7303577789050377\n"
     ]
    }
   ],
   "source": [
    "# Compute mean and standard deviation: mu, sigma\n",
    "\n",
    "import numpy as np\n",
    "from statsmodels.distributions.empirical_distribution import ECDF\n",
    "import matplotlib.pyplot as plt\n",
    "\n",
    "mu = np.mean(df['temperature'])\n",
    "sigma = np.std(df['temperature'])\n",
    "\n",
    "print('mu is =', mu)\n",
    "print('sigma is =', sigma)"
   ]
  },
  {
   "cell_type": "code",
   "execution_count": 17,
   "metadata": {},
   "outputs": [
    {
     "name": "stdout",
     "output_type": "stream",
     "text": [
      "[ 99.3  98.4  97.8  99.2  98.   99.2  98.   98.8  98.4  98.6  98.8  96.7\n",
      "  98.2  98.7  97.8  98.8  98.3  98.2  97.2  99.4  98.3  98.2  98.6  98.4\n",
      "  97.8  98.   97.8  98.2  98.4  98.1  98.3  97.6  98.5  98.6  99.3  99.5\n",
      "  99.1  98.3  97.9  96.4  98.4  98.4  96.9  97.2  99.   97.9  97.4  97.4\n",
      "  97.9  97.1  98.9  98.3  98.5  98.6  98.2  98.6  98.8  98.2  98.2  97.6\n",
      "  99.1  98.4  98.2  98.6  98.7  97.4  97.4  98.6  98.7  98.9  98.1  97.7\n",
      "  98.   98.8  99.   98.8  98.   98.4  97.4  97.6  98.8  98.   97.5  99.2\n",
      "  98.6  97.1  98.6  98.   98.7  98.1  97.8 100.   98.8  97.1  97.8  96.8\n",
      "  99.9  98.7  98.8  98.   99.   98.5  98.   99.4  97.6  96.7  97.   98.6\n",
      "  98.7  97.3  98.8  98.   98.2  99.1  99.   98.  100.8  97.8  98.7  98.4\n",
      "  97.7  97.9  99.   97.2  97.5  96.3  97.7  98.2  97.9  98.7]\n"
     ]
    }
   ],
   "source": [
    "temp = np.array(df['temperature'])\n",
    "print(temp)"
   ]
  },
  {
   "cell_type": "code",
   "execution_count": 18,
   "metadata": {},
   "outputs": [],
   "source": [
    "# Bootstrap hypothesis test \n",
    "def bootstrap_replicate_1d(data, func):\n",
    "    return func(np.random.choice(data, size=len(data)))\n",
    "\n",
    "def draw_bs_reps(data, func, size=1):\n",
    "    \"\"\"Draw bootstrap replicates.\"\"\"\n",
    "\n",
    "    # Initialize array of replicates: bs_replicates\n",
    "    bs_replicates = np.empty(size)\n",
    "\n",
    "    # Generate replicates\n",
    "    for i in range(size):\n",
    "        bs_replicates[i] = bootstrap_replicate_1d(data, func)\n",
    "\n",
    "    return bs_replicates\n",
    "\n",
    "def diff_from_popmean(data, popmean = 98.6):\n",
    "    return np.mean(data) - popmean"
   ]
  },
  {
   "cell_type": "code",
   "execution_count": 21,
   "metadata": {},
   "outputs": [
    {
     "name": "stdout",
     "output_type": "stream",
     "text": [
      "p =  0.0\n"
     ]
    }
   ],
   "source": [
    "# Make an array of translated temp: translated_temp\n",
    "translated_temp = temp - np.mean(temp) + 98.6\n",
    "\n",
    "diff_obs = diff_from_popmean(temp)\n",
    "\n",
    "# Take bootstrap replicates of Frog B's translated impact forces: bs_replicates\n",
    "bs_replicates = draw_bs_reps(translated_temp, diff_from_popmean, 10000)\n",
    "\n",
    "# Compute fraction of replicates that are less than the observed Frog B force: p\n",
    "p = np.sum(bs_replicates <= diff_obs) / 10000\n",
    "\n",
    "# Print the p-value\n",
    "print('p = ', p)\n"
   ]
  },
  {
   "cell_type": "code",
   "execution_count": 25,
   "metadata": {},
   "outputs": [
    {
     "data": {
      "text/plain": [
       "Ttest_1sampResult(statistic=-5.4548232923645195, pvalue=2.4106320415561276e-07)"
      ]
     },
     "execution_count": 25,
     "metadata": {},
     "output_type": "execute_result"
    }
   ],
   "source": [
    "# First way to calculate t-test with p-value\n",
    "stats.ttest_1samp(temp, 98.6)"
   ]
  },
  {
   "cell_type": "code",
   "execution_count": 24,
   "metadata": {},
   "outputs": [
    {
     "name": "stdout",
     "output_type": "stream",
     "text": [
      "t-statistic is -5.4759252020785585\n"
     ]
    }
   ],
   "source": [
    "# Second way to calculate the t-score by using the formula t=(x̄-μ)/(s/sqrt(n))\n",
    "\n",
    "t = ((np.mean(temp))-98.6)/(np.std(temp)/np.sqrt(len(temp)))\n",
    "print ('t-statistic is', t )"
   ]
  },
  {
   "cell_type": "code",
   "execution_count": 30,
   "metadata": {},
   "outputs": [
    {
     "name": "stdout",
     "output_type": "stream",
     "text": [
      "z-statistic is (-5.4548232923645195, 4.9021570141012155e-08)\n"
     ]
    }
   ],
   "source": [
    "# Calculate the z statistic \n",
    "from statsmodels.stats.weightstats import ztest\n",
    "z = ztest(temp,value=98.6)\n",
    "print('z-statistic is', z)"
   ]
  },
  {
   "cell_type": "markdown",
   "metadata": {},
   "source": [
    "Z test: p-value is 4.9021570141012155e-08\n",
    "T test: p-value is 2.4106320415561276e-07 \n",
    "Bootstrap test: p-value is 0.0 \n",
    "In all 3 tests, the p-values were below alpha value 0.05 so we reject the null hypothesis that the true population mean is really 98.6 degrees"
   ]
  },
  {
   "cell_type": "markdown",
   "metadata": {},
   "source": [
    "# 4.) Draw a small sample of size 10 from the data and repeat both frequentist tests.\n",
    "Which one is the correct one to use?\n",
    "What do you notice? What does this tell you about the difference in application of the 𝑡 and 𝑧 statistic? "
   ]
  },
  {
   "cell_type": "markdown",
   "metadata": {},
   "source": [
    "We should use the t-test because the sample size is 10 (n < 30). \n",
    "We generally use z-tests when we have a large sample size (n > 30), \n",
    "when we know the standard deviation, when samples are drawn at random,\n",
    "and when the samples are taken from an independent population. \n",
    "Alpha level: 0.05"
   ]
  },
  {
   "cell_type": "code",
   "execution_count": 33,
   "metadata": {
    "scrolled": true
   },
   "outputs": [
    {
     "data": {
      "text/plain": [
       "array([ 98.6,  98.3,  97.4,  98.2,  98.5,  97.6,  98.6,  99. , 100.8,\n",
       "        99.1])"
      ]
     },
     "execution_count": 33,
     "metadata": {},
     "output_type": "execute_result"
    }
   ],
   "source": [
    "sample = np.random.choice(temp, size=10)\n",
    "sample"
   ]
  },
  {
   "cell_type": "code",
   "execution_count": 34,
   "metadata": {},
   "outputs": [
    {
     "data": {
      "text/plain": [
       "Ttest_1sampResult(statistic=0.03364844556653113, pvalue=0.9738919309682937)"
      ]
     },
     "execution_count": 34,
     "metadata": {},
     "output_type": "execute_result"
    }
   ],
   "source": [
    "stats.ttest_1samp(sample, 98.6)"
   ]
  },
  {
   "cell_type": "code",
   "execution_count": 35,
   "metadata": {},
   "outputs": [
    {
     "name": "stdout",
     "output_type": "stream",
     "text": [
      "t-statistic is 0.03546857590481104\n"
     ]
    }
   ],
   "source": [
    "# Calculate the t-score by using the formula t=(x̄-μ)/(s/sqrt(n))\n",
    "t = ((np.mean(sample))-98.6)/(np.std(sample)/np.sqrt(len(sample)))\n",
    "print ('t-statistic is', t )"
   ]
  },
  {
   "cell_type": "code",
   "execution_count": 36,
   "metadata": {},
   "outputs": [
    {
     "name": "stdout",
     "output_type": "stream",
     "text": [
      "z-statistic is (0.03364844556653113, 0.9731574901446447)\n"
     ]
    }
   ],
   "source": [
    "# Calculate the z statistic \n",
    "from statsmodels.stats.weightstats import ztest\n",
    "z = ztest(sample,value=98.6)\n",
    "print('z-statistic is', z)"
   ]
  },
  {
   "cell_type": "markdown",
   "metadata": {},
   "source": [
    "Z test: p-value is 0.9731574901446447\n",
    "T test: p-value is 0.9738919309682937 \n",
    "In both tests, the p-values are above alpha value 0.05 so we accept the null hypothesis. \n",
    "It suggests the sample size of 10 mean does not differ significantly from the population mean. "
   ]
  },
  {
   "cell_type": "markdown",
   "metadata": {},
   "source": [
    "# 5.) At what temperature should we consider someone's temperature to be \"abnormal\"?\n",
    "    As in the previous example, try calculating everything using the boostrap approach, as well as the frequentist approach.\n",
    "    Start by computing the margin of error and confidence interval. When calculating the confidence interval, keep in mind that you should use the appropriate formula for one draw, and not N draws. "
   ]
  },
  {
   "cell_type": "code",
   "execution_count": 83,
   "metadata": {},
   "outputs": [],
   "source": [
    "# Bootstrap approach\n",
    "bs_sample = np.empty(10000)\n",
    "for i in range(10000):\n",
    "    bs_sample[i] = np.mean(np.random.choice(temp, size=len(temp)))"
   ]
  },
  {
   "cell_type": "code",
   "execution_count": 85,
   "metadata": {},
   "outputs": [
    {
     "name": "stdout",
     "output_type": "stream",
     "text": [
      "The 95% confidence interval is [98.12459615 98.37232692]\n"
     ]
    }
   ],
   "source": [
    "# Compute the 95% confidence interval: conf_int\n",
    "conf_int = np.percentile(bs_sample, [2.5, 97.5])\n",
    "print('The 95% confidence interval is', conf_int)"
   ]
  },
  {
   "cell_type": "code",
   "execution_count": 87,
   "metadata": {},
   "outputs": [
    {
     "name": "stdout",
     "output_type": "stream",
     "text": [
      "The margin of error is 0.125550964802579\n",
      "The 95% confidence interval is [ 98.12367980442819 98.37478173403336 ]\n"
     ]
    }
   ],
   "source": [
    "# Frequentist approach\n",
    "# Calculate the margin of error\n",
    "me = np.abs(1.96 * np.std(temp)/np.sqrt(len(temp)) )\n",
    "print('The margin of error is', me)\n",
    "print('The 95% confidence interval is [', np.mean(temp)-me, np.mean(temp)+me, ']')"
   ]
  },
  {
   "cell_type": "markdown",
   "metadata": {},
   "source": [
    "# 6.) Is there a significant difference between males and females in normal temperature?\n",
    "What testing approach did you use and why?\n",
    "Write a story with your conclusion in the context of the original problem. "
   ]
  },
  {
   "cell_type": "code",
   "execution_count": 88,
   "metadata": {},
   "outputs": [],
   "source": [
    "# Make two arrays \n",
    "male = np.array(df[df['gender'] == 'M']['temperature'])\n",
    "female = np.array(df[df['gender'] == 'F']['temperature'])"
   ]
  },
  {
   "cell_type": "code",
   "execution_count": 89,
   "metadata": {},
   "outputs": [
    {
     "name": "stdout",
     "output_type": "stream",
     "text": [
      "The average male body temperature in this sample is 98.10461538461537\n",
      "The average female body temperature in this sample is 98.39384615384614\n"
     ]
    }
   ],
   "source": [
    "# Average gender temperature \n",
    "print('The average male body temperature in this sample is', np.mean(male))\n",
    "print('The average female body temperature in this sample is',np.mean(female))"
   ]
  },
  {
   "cell_type": "code",
   "execution_count": 96,
   "metadata": {},
   "outputs": [
    {
     "name": "stdout",
     "output_type": "stream",
     "text": [
      "p-value = 0.009\n"
     ]
    }
   ],
   "source": [
    "# Bootstrap resampling method\n",
    "\n",
    "# Generate shifted/translated arrays\n",
    "male_translated = male - np.mean(male) + (np.mean(temp))\n",
    "female_translated = female - np.mean(female) + (np.mean(temp))\n",
    "\n",
    "# Compute 1,000 bootstrap replicates from shifted arrays\n",
    "bs_mean_m = np.empty(1000)\n",
    "bs_mean_f = np.empty(1000)\n",
    "for i in range(1000): \n",
    "    bs_sample_m = np.random.choice(male_translated, size=len(male))\n",
    "    bs_sample_f = np.random.choice(female_translated, size=len(female))\n",
    "    bs_mean_m[i] = np.mean(bs_sample_m)\n",
    "    bs_mean_f[i] = np.mean(bs_sample_f)\n",
    "\n",
    "# Get replicates of difference of means: bs_replicates\n",
    "bs_diff = bs_mean_f - bs_mean_m\n",
    "\n",
    "# Compute and print p-value: p\n",
    "p = np.sum(bs_diff>(np.mean(female)-np.mean(male)))/ len(bs_diff)\n",
    "print('p-value =', p)"
   ]
  },
  {
   "cell_type": "markdown",
   "metadata": {},
   "source": [
    "The null hypothesis is that there is no significant difference between males and females in normal temperature. \n",
    "Here we used a bootstrap resampling method. \n",
    "The p-value returned is smaller than 0.05 which suggests that we reject the null hypothesis and that there is significant difference between male and female normal temperature."
   ]
  }
 ],
 "metadata": {
  "kernelspec": {
   "display_name": "Python 3",
   "language": "python",
   "name": "python3"
  },
  "language_info": {
   "codemirror_mode": {
    "name": "ipython",
    "version": 3
   },
   "file_extension": ".py",
   "mimetype": "text/x-python",
   "name": "python",
   "nbconvert_exporter": "python",
   "pygments_lexer": "ipython3",
   "version": "3.7.1"
  }
 },
 "nbformat": 4,
 "nbformat_minor": 1
}
